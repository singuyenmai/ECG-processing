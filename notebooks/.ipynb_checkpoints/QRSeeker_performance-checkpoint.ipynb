{
 "cells": [
  {
   "cell_type": "code",
   "execution_count": 1,
   "metadata": {},
   "outputs": [
    {
     "name": "stderr",
     "output_type": "stream",
     "text": [
      "/home/singuyen/anaconda3/envs/biosignal/lib/python3.6/importlib/_bootstrap.py:219: RuntimeWarning: numpy.dtype size changed, may indicate binary incompatibility. Expected 96, got 88\n",
      "  return f(*args, **kwds)\n",
      "/home/singuyen/anaconda3/envs/biosignal/lib/python3.6/importlib/_bootstrap.py:219: RuntimeWarning: numpy.dtype size changed, may indicate binary incompatibility. Expected 96, got 88\n",
      "  return f(*args, **kwds)\n",
      "/home/singuyen/anaconda3/envs/biosignal/lib/python3.6/importlib/_bootstrap.py:219: RuntimeWarning: numpy.dtype size changed, may indicate binary incompatibility. Expected 96, got 88\n",
      "  return f(*args, **kwds)\n"
     ]
    }
   ],
   "source": [
    "import pickle\n",
    "\n",
    "import pandas as pd\n",
    "import numpy as np\n",
    "\n",
    "import matplotlib.pyplot as plt\n",
    "import seaborn as sns\n",
    "\n",
    "sns.set_context(context='talk')\n",
    "\n",
    "%matplotlib inline"
   ]
  },
  {
   "cell_type": "markdown",
   "metadata": {},
   "source": [
    "# IncartDb"
   ]
  },
  {
   "cell_type": "code",
   "execution_count": 2,
   "metadata": {},
   "outputs": [
    {
     "name": "stdout",
     "output_type": "stream",
     "text": [
      "(55, 13)\n"
     ]
    },
    {
     "data": {
      "text/html": [
       "<div>\n",
       "<style scoped>\n",
       "    .dataframe tbody tr th:only-of-type {\n",
       "        vertical-align: middle;\n",
       "    }\n",
       "\n",
       "    .dataframe tbody tr th {\n",
       "        vertical-align: top;\n",
       "    }\n",
       "\n",
       "    .dataframe thead th {\n",
       "        text-align: right;\n",
       "    }\n",
       "</style>\n",
       "<table border=\"1\" class=\"dataframe\">\n",
       "  <thead>\n",
       "    <tr style=\"text-align: right;\">\n",
       "      <th></th>\n",
       "      <th>record_id</th>\n",
       "      <th>ref_annotation</th>\n",
       "      <th>test_annotation</th>\n",
       "      <th>matched_ref_inds</th>\n",
       "      <th>matched_test_inds</th>\n",
       "      <th>unmatched_ref_inds</th>\n",
       "      <th>unmatched_test_inds</th>\n",
       "      <th>true_positive</th>\n",
       "      <th>false_positive</th>\n",
       "      <th>false_negative</th>\n",
       "      <th>specificity</th>\n",
       "      <th>positive_predictivity</th>\n",
       "      <th>FPR</th>\n",
       "    </tr>\n",
       "  </thead>\n",
       "  <tbody>\n",
       "    <tr>\n",
       "      <th>0</th>\n",
       "      <td>I01</td>\n",
       "      <td>[114, 277, 442, 608, 710, 941, 1106, 1269, 143...</td>\n",
       "      <td>[125, 288, 453, 617, 951, 1116, 1280, 1442, 16...</td>\n",
       "      <td>[0, 1, 2, 3, 5, 6, 7, 8, 9, 10, 11, 12, 13, 14...</td>\n",
       "      <td>[0, 1, 2, 3, 4, 5, 6, 7, 8, 9, 10, 11, 12, 13,...</td>\n",
       "      <td>[4, 16, 32, 52, 67, 100, 108, 113, 118, 139, 1...</td>\n",
       "      <td>[2413]</td>\n",
       "      <td>2413.0</td>\n",
       "      <td>1.0</td>\n",
       "      <td>344.0</td>\n",
       "      <td>0.875227</td>\n",
       "      <td>0.999586</td>\n",
       "      <td>0.000414</td>\n",
       "    </tr>\n",
       "    <tr>\n",
       "      <th>1</th>\n",
       "      <td>I02</td>\n",
       "      <td>[11, 192, 375, 487, 586, 746, 931, 1119, 1305,...</td>\n",
       "      <td>[23, 203, 386, 596, 757, 942, 1129, 1316, 1526...</td>\n",
       "      <td>[0, 1, 2, 4, 5, 6, 7, 8, 10, 11, 12, 13, 14, 1...</td>\n",
       "      <td>[0, 1, 2, 3, 4, 5, 6, 7, 8, 9, 10, 11, 12, 13,...</td>\n",
       "      <td>[3, 9, 16, 23, 36, 41, 47, 54, 61, 69, 76, 81,...</td>\n",
       "      <td>[]</td>\n",
       "      <td>2444.0</td>\n",
       "      <td>0.0</td>\n",
       "      <td>230.0</td>\n",
       "      <td>0.913987</td>\n",
       "      <td>1.000000</td>\n",
       "      <td>0.000000</td>\n",
       "    </tr>\n",
       "    <tr>\n",
       "      <th>2</th>\n",
       "      <td>I03</td>\n",
       "      <td>[0, 172, 344, 519, 698, 878, 1059, 1243, 1430,...</td>\n",
       "      <td>[19, 179, 351, 526, 705, 885, 1066, 1250, 1437...</td>\n",
       "      <td>[0, 1, 2, 3, 4, 5, 6, 7, 8, 9, 10, 11, 12, 13,...</td>\n",
       "      <td>[0, 1, 2, 3, 4, 5, 6, 7, 8, 9, 10, 11, 12, 13,...</td>\n",
       "      <td>[143, 145, 147, 149, 151, 153, 155, 157, 159, ...</td>\n",
       "      <td>[1409, 1466]</td>\n",
       "      <td>2366.0</td>\n",
       "      <td>2.0</td>\n",
       "      <td>86.0</td>\n",
       "      <td>0.964927</td>\n",
       "      <td>0.999155</td>\n",
       "      <td>0.000845</td>\n",
       "    </tr>\n",
       "    <tr>\n",
       "      <th>3</th>\n",
       "      <td>I04</td>\n",
       "      <td>[-11, 187, 393, 611, 834, 1059, 1292, 1529, 17...</td>\n",
       "      <td>[19, 194, 399, 617, 841, 1066, 1298, 1535, 176...</td>\n",
       "      <td>[1, 2, 3, 4, 5, 6, 7, 8, 9, 10, 11, 12, 13, 14...</td>\n",
       "      <td>[1, 2, 3, 4, 5, 6, 7, 8, 9, 10, 11, 12, 13, 14...</td>\n",
       "      <td>[0, 57, 168, 195, 367, 452, 492, 728, 729, 752...</td>\n",
       "      <td>[0]</td>\n",
       "      <td>2349.0</td>\n",
       "      <td>1.0</td>\n",
       "      <td>75.0</td>\n",
       "      <td>0.969059</td>\n",
       "      <td>0.999574</td>\n",
       "      <td>0.000426</td>\n",
       "    </tr>\n",
       "    <tr>\n",
       "      <th>4</th>\n",
       "      <td>I05</td>\n",
       "      <td>[88, 346, 612, 873, 1142, 1419, 1692, 1969, 22...</td>\n",
       "      <td>[95, 353, 619, 880, 1149, 1425, 1699, 1976, 22...</td>\n",
       "      <td>[0, 1, 2, 3, 4, 5, 6, 7, 8, 9, 10, 11, 12, 13,...</td>\n",
       "      <td>[0, 1, 2, 3, 4, 5, 6, 7, 8, 9, 10, 11, 12, 13,...</td>\n",
       "      <td>[35, 104, 148, 149, 173, 198, 228, 253, 295, 3...</td>\n",
       "      <td>[]</td>\n",
       "      <td>1612.0</td>\n",
       "      <td>0.0</td>\n",
       "      <td>164.0</td>\n",
       "      <td>0.907658</td>\n",
       "      <td>1.000000</td>\n",
       "      <td>0.000000</td>\n",
       "    </tr>\n",
       "  </tbody>\n",
       "</table>\n",
       "</div>"
      ],
      "text/plain": [
       "  record_id                                     ref_annotation  \\\n",
       "0       I01  [114, 277, 442, 608, 710, 941, 1106, 1269, 143...   \n",
       "1       I02  [11, 192, 375, 487, 586, 746, 931, 1119, 1305,...   \n",
       "2       I03  [0, 172, 344, 519, 698, 878, 1059, 1243, 1430,...   \n",
       "3       I04  [-11, 187, 393, 611, 834, 1059, 1292, 1529, 17...   \n",
       "4       I05  [88, 346, 612, 873, 1142, 1419, 1692, 1969, 22...   \n",
       "\n",
       "                                     test_annotation  \\\n",
       "0  [125, 288, 453, 617, 951, 1116, 1280, 1442, 16...   \n",
       "1  [23, 203, 386, 596, 757, 942, 1129, 1316, 1526...   \n",
       "2  [19, 179, 351, 526, 705, 885, 1066, 1250, 1437...   \n",
       "3  [19, 194, 399, 617, 841, 1066, 1298, 1535, 176...   \n",
       "4  [95, 353, 619, 880, 1149, 1425, 1699, 1976, 22...   \n",
       "\n",
       "                                    matched_ref_inds  \\\n",
       "0  [0, 1, 2, 3, 5, 6, 7, 8, 9, 10, 11, 12, 13, 14...   \n",
       "1  [0, 1, 2, 4, 5, 6, 7, 8, 10, 11, 12, 13, 14, 1...   \n",
       "2  [0, 1, 2, 3, 4, 5, 6, 7, 8, 9, 10, 11, 12, 13,...   \n",
       "3  [1, 2, 3, 4, 5, 6, 7, 8, 9, 10, 11, 12, 13, 14...   \n",
       "4  [0, 1, 2, 3, 4, 5, 6, 7, 8, 9, 10, 11, 12, 13,...   \n",
       "\n",
       "                                   matched_test_inds  \\\n",
       "0  [0, 1, 2, 3, 4, 5, 6, 7, 8, 9, 10, 11, 12, 13,...   \n",
       "1  [0, 1, 2, 3, 4, 5, 6, 7, 8, 9, 10, 11, 12, 13,...   \n",
       "2  [0, 1, 2, 3, 4, 5, 6, 7, 8, 9, 10, 11, 12, 13,...   \n",
       "3  [1, 2, 3, 4, 5, 6, 7, 8, 9, 10, 11, 12, 13, 14...   \n",
       "4  [0, 1, 2, 3, 4, 5, 6, 7, 8, 9, 10, 11, 12, 13,...   \n",
       "\n",
       "                                  unmatched_ref_inds unmatched_test_inds  \\\n",
       "0  [4, 16, 32, 52, 67, 100, 108, 113, 118, 139, 1...              [2413]   \n",
       "1  [3, 9, 16, 23, 36, 41, 47, 54, 61, 69, 76, 81,...                  []   \n",
       "2  [143, 145, 147, 149, 151, 153, 155, 157, 159, ...        [1409, 1466]   \n",
       "3  [0, 57, 168, 195, 367, 452, 492, 728, 729, 752...                 [0]   \n",
       "4  [35, 104, 148, 149, 173, 198, 228, 253, 295, 3...                  []   \n",
       "\n",
       "   true_positive  false_positive  false_negative  specificity  \\\n",
       "0         2413.0             1.0           344.0     0.875227   \n",
       "1         2444.0             0.0           230.0     0.913987   \n",
       "2         2366.0             2.0            86.0     0.964927   \n",
       "3         2349.0             1.0            75.0     0.969059   \n",
       "4         1612.0             0.0           164.0     0.907658   \n",
       "\n",
       "   positive_predictivity       FPR  \n",
       "0               0.999586  0.000414  \n",
       "1               1.000000  0.000000  \n",
       "2               0.999155  0.000845  \n",
       "3               0.999574  0.000426  \n",
       "4               1.000000  0.000000  "
      ]
     },
     "execution_count": 2,
     "metadata": {},
     "output_type": "execute_result"
    }
   ],
   "source": [
    "incart = pickle.load(open(\"incartDb_summary.pickle\", \"rb\"))\n",
    "\n",
    "print(incart.shape)\n",
    "incart.head()"
   ]
  },
  {
   "cell_type": "code",
   "execution_count": 3,
   "metadata": {},
   "outputs": [
    {
     "data": {
      "text/plain": [
       "<matplotlib.axes._subplots.AxesSubplot at 0x7f973d1cd0b8>"
      ]
     },
     "execution_count": 3,
     "metadata": {},
     "output_type": "execute_result"
    },
    {
     "data": {
      "image/png": "[encoded data removed]",
      "text/plain": [
       "<Figure size 432x288 with 1 Axes>"
      ]
     },
     "metadata": {
      "needs_background": "light"
     },
     "output_type": "display_data"
    }
   ],
   "source": [
    "incart['specificity'].hist()"
   ]
  },
  {
   "cell_type": "code",
   "execution_count": 4,
   "metadata": {},
   "outputs": [
    {
     "data": {
      "text/plain": [
       "<matplotlib.axes._subplots.AxesSubplot at 0x7f973ce9f5c0>"
      ]
     },
     "execution_count": 4,
     "metadata": {},
     "output_type": "execute_result"
    },
    {
     "data": {
      "image/png": "[encoded data removed]",
      "text/plain": [
       "<Figure size 432x288 with 1 Axes>"
      ]
     },
     "metadata": {
      "needs_background": "light"
     },
     "output_type": "display_data"
    }
   ],
   "source": [
    "incart['positive_predictivity'].hist()"
   ]
  },
  {
   "cell_type": "code",
   "execution_count": 10,
   "metadata": {},
   "outputs": [
    {
     "data": {
      "image/png": "[encoded data removed]",
      "text/plain": [
       "<Figure size 1080x504 with 2 Axes>"
      ]
     },
     "metadata": {
      "needs_background": "light"
     },
     "output_type": "display_data"
    }
   ],
   "source": [
    "fig1, ax1 = plt.subplots(1, 2, figsize=(15,7), gridspec_kw={'wspace':0.3, 'width_ratios':[3, 1]})\n",
    "\n",
    "g1 = sns.boxenplot(data=incart[['specificity', 'positive_predictivity']], ax=ax1[0])\n",
    "\n",
    "g2 = sns.boxenplot(data = incart[['FPR']], color = '#8e24aa', ax=ax1[1])"
   ]
  },
  {
   "cell_type": "markdown",
   "metadata": {},
   "source": [
    "# NsrDb"
   ]
  },
  {
   "cell_type": "code",
   "execution_count": 11,
   "metadata": {},
   "outputs": [
    {
     "name": "stdout",
     "output_type": "stream",
     "text": [
      "(15, 13)\n"
     ]
    },
    {
     "data": {
      "text/html": [
       "<div>\n",
       "<style scoped>\n",
       "    .dataframe tbody tr th:only-of-type {\n",
       "        vertical-align: middle;\n",
       "    }\n",
       "\n",
       "    .dataframe tbody tr th {\n",
       "        vertical-align: top;\n",
       "    }\n",
       "\n",
       "    .dataframe thead th {\n",
       "        text-align: right;\n",
       "    }\n",
       "</style>\n",
       "<table border=\"1\" class=\"dataframe\">\n",
       "  <thead>\n",
       "    <tr style=\"text-align: right;\">\n",
       "      <th></th>\n",
       "      <th>record_id</th>\n",
       "      <th>ref_annotation</th>\n",
       "      <th>test_annotation</th>\n",
       "      <th>matched_ref_inds</th>\n",
       "      <th>matched_test_inds</th>\n",
       "      <th>unmatched_ref_inds</th>\n",
       "      <th>unmatched_test_inds</th>\n",
       "      <th>true_positive</th>\n",
       "      <th>false_positive</th>\n",
       "      <th>false_negative</th>\n",
       "      <th>specificity</th>\n",
       "      <th>positive_predictivity</th>\n",
       "      <th>FPR</th>\n",
       "    </tr>\n",
       "  </thead>\n",
       "  <tbody>\n",
       "    <tr>\n",
       "      <th>0</th>\n",
       "      <td>16265</td>\n",
       "      <td>[1, 52, 129, 207, 284, 364, 442, 522, 598, 675...</td>\n",
       "      <td>[58, 135, 213, 291, 370, 448, 527, 604, 682, 7...</td>\n",
       "      <td>[1, 2, 3, 4, 5, 6, 7, 8, 9, 10, 11, 12, 13, 14...</td>\n",
       "      <td>[0, 1, 2, 3, 4, 5, 6, 7, 8, 9, 10, 11, 12, 13,...</td>\n",
       "      <td>[0, 479, 488, 509, 519, 840, 842, 844, 846, 84...</td>\n",
       "      <td>[3563, 4751, 9010, 17586, 20111, 20352, 23401,...</td>\n",
       "      <td>100231.0</td>\n",
       "      <td>15.0</td>\n",
       "      <td>724.0</td>\n",
       "      <td>0.992828</td>\n",
       "      <td>0.999850</td>\n",
       "      <td>0.000150</td>\n",
       "    </tr>\n",
       "    <tr>\n",
       "      <th>1</th>\n",
       "      <td>16273</td>\n",
       "      <td>[9, 87, 164, 241, 319, 397, 476, 557, 641, 723...</td>\n",
       "      <td>[15, 93, 171, 248, 325, 403, 482, 564, 647, 73...</td>\n",
       "      <td>[0, 1, 2, 3, 4, 5, 6, 7, 8, 9, 10, 11, 12, 13,...</td>\n",
       "      <td>[0, 1, 2, 3, 4, 5, 6, 7, 8, 9, 10, 11, 12, 13,...</td>\n",
       "      <td>[54, 242, 247, 249, 252, 411, 416, 423, 508, 5...</td>\n",
       "      <td>[5239]</td>\n",
       "      <td>89784.0</td>\n",
       "      <td>1.0</td>\n",
       "      <td>313.0</td>\n",
       "      <td>0.996526</td>\n",
       "      <td>0.999989</td>\n",
       "      <td>0.000011</td>\n",
       "    </tr>\n",
       "    <tr>\n",
       "      <th>2</th>\n",
       "      <td>16420</td>\n",
       "      <td>[68, 148, 228, 309, 391, 474, 557, 643, 727, 8...</td>\n",
       "      <td>[75, 156, 235, 317, 399, 481, 565, 651, 735, 8...</td>\n",
       "      <td>[0, 1, 2, 3, 4, 5, 6, 7, 8, 9, 10, 11, 12, 13,...</td>\n",
       "      <td>[0, 1, 2, 3, 4, 5, 6, 7, 8, 9, 10, 11, 12, 13,...</td>\n",
       "      <td>[307, 308, 318, 320, 334, 387, 396, 2786, 2794...</td>\n",
       "      <td>[]</td>\n",
       "      <td>101846.0</td>\n",
       "      <td>0.0</td>\n",
       "      <td>590.0</td>\n",
       "      <td>0.994240</td>\n",
       "      <td>1.000000</td>\n",
       "      <td>0.000000</td>\n",
       "    </tr>\n",
       "    <tr>\n",
       "      <th>3</th>\n",
       "      <td>16483</td>\n",
       "      <td>[18, 99, 178, 257, 337, 417, 497, 577, 657, 73...</td>\n",
       "      <td>[19, 102, 182, 261, 340, 420, 500, 580, 660, 7...</td>\n",
       "      <td>[0, 1, 2, 3, 4, 5, 6, 7, 8, 9, 10, 11, 12, 13,...</td>\n",
       "      <td>[0, 1, 2, 3, 4, 5, 6, 7, 8, 9, 10, 11, 12, 13,...</td>\n",
       "      <td>[60, 91, 103, 154, 421, 429, 1276, 1433, 1440,...</td>\n",
       "      <td>[51446]</td>\n",
       "      <td>104322.0</td>\n",
       "      <td>1.0</td>\n",
       "      <td>239.0</td>\n",
       "      <td>0.997714</td>\n",
       "      <td>0.999990</td>\n",
       "      <td>0.000010</td>\n",
       "    </tr>\n",
       "    <tr>\n",
       "      <th>4</th>\n",
       "      <td>16539</td>\n",
       "      <td>[72, 168, 268, 364, 454, 543, 636, 746, 866, 9...</td>\n",
       "      <td>[76, 172, 273, 369, 458, 548, 642, 751, 871, 9...</td>\n",
       "      <td>[0, 1, 2, 3, 4, 5, 6, 7, 8, 9, 10, 11, 12, 13,...</td>\n",
       "      <td>[0, 1, 2, 3, 4, 5, 6, 7, 8, 9, 10, 11, 12, 13,...</td>\n",
       "      <td>[272, 279, 551, 565, 568, 575, 816, 823, 828, ...</td>\n",
       "      <td>[]</td>\n",
       "      <td>107899.0</td>\n",
       "      <td>0.0</td>\n",
       "      <td>775.0</td>\n",
       "      <td>0.992869</td>\n",
       "      <td>1.000000</td>\n",
       "      <td>0.000000</td>\n",
       "    </tr>\n",
       "  </tbody>\n",
       "</table>\n",
       "</div>"
      ],
      "text/plain": [
       "  record_id                                     ref_annotation  \\\n",
       "0     16265  [1, 52, 129, 207, 284, 364, 442, 522, 598, 675...   \n",
       "1     16273  [9, 87, 164, 241, 319, 397, 476, 557, 641, 723...   \n",
       "2     16420  [68, 148, 228, 309, 391, 474, 557, 643, 727, 8...   \n",
       "3     16483  [18, 99, 178, 257, 337, 417, 497, 577, 657, 73...   \n",
       "4     16539  [72, 168, 268, 364, 454, 543, 636, 746, 866, 9...   \n",
       "\n",
       "                                     test_annotation  \\\n",
       "0  [58, 135, 213, 291, 370, 448, 527, 604, 682, 7...   \n",
       "1  [15, 93, 171, 248, 325, 403, 482, 564, 647, 73...   \n",
       "2  [75, 156, 235, 317, 399, 481, 565, 651, 735, 8...   \n",
       "3  [19, 102, 182, 261, 340, 420, 500, 580, 660, 7...   \n",
       "4  [76, 172, 273, 369, 458, 548, 642, 751, 871, 9...   \n",
       "\n",
       "                                    matched_ref_inds  \\\n",
       "0  [1, 2, 3, 4, 5, 6, 7, 8, 9, 10, 11, 12, 13, 14...   \n",
       "1  [0, 1, 2, 3, 4, 5, 6, 7, 8, 9, 10, 11, 12, 13,...   \n",
       "2  [0, 1, 2, 3, 4, 5, 6, 7, 8, 9, 10, 11, 12, 13,...   \n",
       "3  [0, 1, 2, 3, 4, 5, 6, 7, 8, 9, 10, 11, 12, 13,...   \n",
       "4  [0, 1, 2, 3, 4, 5, 6, 7, 8, 9, 10, 11, 12, 13,...   \n",
       "\n",
       "                                   matched_test_inds  \\\n",
       "0  [0, 1, 2, 3, 4, 5, 6, 7, 8, 9, 10, 11, 12, 13,...   \n",
       "1  [0, 1, 2, 3, 4, 5, 6, 7, 8, 9, 10, 11, 12, 13,...   \n",
       "2  [0, 1, 2, 3, 4, 5, 6, 7, 8, 9, 10, 11, 12, 13,...   \n",
       "3  [0, 1, 2, 3, 4, 5, 6, 7, 8, 9, 10, 11, 12, 13,...   \n",
       "4  [0, 1, 2, 3, 4, 5, 6, 7, 8, 9, 10, 11, 12, 13,...   \n",
       "\n",
       "                                  unmatched_ref_inds  \\\n",
       "0  [0, 479, 488, 509, 519, 840, 842, 844, 846, 84...   \n",
       "1  [54, 242, 247, 249, 252, 411, 416, 423, 508, 5...   \n",
       "2  [307, 308, 318, 320, 334, 387, 396, 2786, 2794...   \n",
       "3  [60, 91, 103, 154, 421, 429, 1276, 1433, 1440,...   \n",
       "4  [272, 279, 551, 565, 568, 575, 816, 823, 828, ...   \n",
       "\n",
       "                                 unmatched_test_inds  true_positive  \\\n",
       "0  [3563, 4751, 9010, 17586, 20111, 20352, 23401,...       100231.0   \n",
       "1                                             [5239]        89784.0   \n",
       "2                                                 []       101846.0   \n",
       "3                                            [51446]       104322.0   \n",
       "4                                                 []       107899.0   \n",
       "\n",
       "   false_positive  false_negative  specificity  positive_predictivity  \\\n",
       "0            15.0           724.0     0.992828               0.999850   \n",
       "1             1.0           313.0     0.996526               0.999989   \n",
       "2             0.0           590.0     0.994240               1.000000   \n",
       "3             1.0           239.0     0.997714               0.999990   \n",
       "4             0.0           775.0     0.992869               1.000000   \n",
       "\n",
       "        FPR  \n",
       "0  0.000150  \n",
       "1  0.000011  \n",
       "2  0.000000  \n",
       "3  0.000010  \n",
       "4  0.000000  "
      ]
     },
     "execution_count": 11,
     "metadata": {},
     "output_type": "execute_result"
    }
   ],
   "source": [
    "nsr = pickle.load(open(\"nsrDb_summary.pickle\", \"rb\"))\n",
    "\n",
    "print(nsr.shape)\n",
    "nsr.head()"
   ]
  },
  {
   "cell_type": "code",
   "execution_count": 12,
   "metadata": {},
   "outputs": [
    {
     "data": {
      "text/plain": [
       "<matplotlib.axes._subplots.AxesSubplot at 0x7f973c5cfb00>"
      ]
     },
     "execution_count": 12,
     "metadata": {},
     "output_type": "execute_result"
    },
    {
     "data": {
      "image/png": "[encoded data removed]",
      "text/plain": [
       "<Figure size 432x288 with 1 Axes>"
      ]
     },
     "metadata": {
      "needs_background": "light"
     },
     "output_type": "display_data"
    }
   ],
   "source": [
    "nsr['specificity'].hist()"
   ]
  },
  {
   "cell_type": "code",
   "execution_count": 13,
   "metadata": {},
   "outputs": [
    {
     "data": {
      "text/plain": [
       "<matplotlib.axes._subplots.AxesSubplot at 0x7f973c5c30f0>"
      ]
     },
     "execution_count": 13,
     "metadata": {},
     "output_type": "execute_result"
    },
    {
     "data": {
      "image/png": "[encoded data removed]",
      "text/plain": [
       "<Figure size 432x288 with 1 Axes>"
      ]
     },
     "metadata": {
      "needs_background": "light"
     },
     "output_type": "display_data"
    }
   ],
   "source": [
    "nsr['positive_predictivity'].hist()"
   ]
  },
  {
   "cell_type": "code",
   "execution_count": 14,
   "metadata": {},
   "outputs": [
    {
     "data": {
      "image/png": "[encoded data removed]",
      "text/plain": [
       "<Figure size 1080x504 with 2 Axes>"
      ]
     },
     "metadata": {
      "needs_background": "light"
     },
     "output_type": "display_data"
    }
   ],
   "source": [
    "fig2, ax2 = plt.subplots(1, 2, figsize=(15,7), gridspec_kw={'wspace':0.3, 'width_ratios':[3, 1]})\n",
    "\n",
    "g3 = sns.boxenplot(data = nsr[['specificity', 'positive_predictivity']], ax=ax2[0])\n",
    "g4 = sns.boxenplot(data = nsr[['FPR']], color = '#8e24aa', ax=ax2[1])"
   ]
  },
  {
   "cell_type": "code",
   "execution_count": 15,
   "metadata": {},
   "outputs": [],
   "source": [
    "fig1.savefig(\"performance_incartdb.svg\")\n",
    "fig2.savefig(\"performance_nsrdb.svg\")"
   ]
  },
  {
   "cell_type": "code",
   "execution_count": null,
   "metadata": {},
   "outputs": [],
   "source": []
  }
 ],
 "metadata": {
  "anaconda-cloud": {},
  "kernelspec": {
   "display_name": "Python [conda env:biosignal]",
   "language": "python",
   "name": "conda-env-biosignal-py"
  },
  "language_info": {
   "codemirror_mode": {
    "name": "ipython",
    "version": 3
   },
   "file_extension": ".py",
   "mimetype": "text/x-python",
   "name": "python",
   "nbconvert_exporter": "python",
   "pygments_lexer": "ipython3",
   "version": "3.6.7"
  }
 },
 "nbformat": 4,
 "nbformat_minor": 1
}
