{
 "cells": [
  {
   "cell_type": "code",
   "execution_count": 1,
   "metadata": {},
   "outputs": [
    {
     "name": "stderr",
     "output_type": "stream",
     "text": [
      "/home/singuyen/anaconda3/envs/biosignal/lib/python3.6/importlib/_bootstrap.py:219: RuntimeWarning: numpy.dtype size changed, may indicate binary incompatibility. Expected 96, got 88\n",
      "  return f(*args, **kwds)\n"
     ]
    }
   ],
   "source": [
    "import matplotlib.pyplot as plt\n",
    "import pandas as pd\n",
    "import numpy as np\n",
    "import os\n",
    "import shutil\n",
    "\n",
    "import wfdb\n",
    "from wfdb import processing\n",
    "\n",
    "%matplotlib inline"
   ]
  },
  {
   "cell_type": "code",
   "execution_count": 2,
   "metadata": {},
   "outputs": [],
   "source": [
    "from QRSeeker import QRSeeker"
   ]
  },
  {
   "cell_type": "code",
   "execution_count": 3,
   "metadata": {},
   "outputs": [
    {
     "name": "stdout",
     "output_type": "stream",
     "text": [
      "['16265', '16272', '16273', '16420', '16483', '16539', '16773', '16786', '16795', '17052', '17453', '18177', '18184', '19088', '19090', '19093', '19140', '19830']\n",
      "11730944\n"
     ]
    }
   ],
   "source": [
    "database = \"nsrdb\"\n",
    "database_dir = '../nsrDb/'\n",
    "record_ids = wfdb.get_record_list(database)\n",
    "\n",
    "record_path = database_dir + record_ids[0]\n",
    "signal_len = wfdb.rdrecord(record_path).__dict__['sig_len']\n",
    "\n",
    "print(record_ids)\n",
    "print(signal_len)"
   ]
  },
  {
   "cell_type": "markdown",
   "metadata": {},
   "source": [
    "# Run one sample"
   ]
  },
  {
   "cell_type": "code",
   "execution_count": 4,
   "metadata": {},
   "outputs": [],
   "source": [
    "record_id = '19090'\n",
    "record_path = database_dir + record_id"
   ]
  },
  {
   "cell_type": "code",
   "execution_count": 5,
   "metadata": {},
   "outputs": [
    {
     "name": "stdout",
     "output_type": "stream",
     "text": [
      "Number of peaks detected >= 85% of number of reference peaks \\m/\n"
     ]
    }
   ],
   "source": [
    "qrs_seeker = QRSeeker(record_path, channels=[0],\n",
    "                      findpeaks_limit=0.1, findpeaks_spacing_factor=0.2, \n",
    "                      verbose=False)"
   ]
  },
  {
   "cell_type": "code",
   "execution_count": 6,
   "metadata": {},
   "outputs": [
    {
     "name": "stdout",
     "output_type": "stream",
     "text": [
      "81953 reference annotations, 81546 test annotations\n",
      "\n",
      "True Positives (matched samples): 81546\n",
      "False Positives (unmatched test samples: 0\n",
      "False Negatives (unmatched reference samples): 407\n",
      "\n",
      "Specificity: 0.9950 (81546/81953)\n",
      "Positive Predictivity: 1.0000 (81546/81546)\n",
      "False Positive Rate: 0.0000 (0/81546)\n"
     ]
    }
   ],
   "source": [
    "qrs_seeker.qrs_validator.print_summary()"
   ]
  },
  {
   "cell_type": "markdown",
   "metadata": {},
   "source": [
    "True Negatives = Total # samples - Positives - False Negatives"
   ]
  },
  {
   "cell_type": "code",
   "execution_count": 7,
   "metadata": {
    "scrolled": true
   },
   "outputs": [
    {
     "name": "stdout",
     "output_type": "stream",
     "text": [
      "Number of peaks detected >= 85% of number of reference peaks \\m/\n",
      "81953 reference annotations, 81609 test annotations\n",
      "\n",
      "True Positives (matched samples): 81609\n",
      "False Positives (unmatched test samples: 0\n",
      "False Negatives (unmatched reference samples): 344\n",
      "\n",
      "Specificity: 0.9958 (81609/81953)\n",
      "Positive Predictivity: 1.0000 (81609/81609)\n",
      "False Positive Rate: 0.0000 (0/81609)\n",
      "None\n"
     ]
    }
   ],
   "source": [
    "qrs_seeker = QRSeeker(record_path, channels=[0],\n",
    "                      findpeaks_limit=0.01, findpeaks_spacing_factor=0.2, \n",
    "                      verbose=False) \n",
    "\n",
    "print(qrs_seeker.qrs_validator.print_summary())"
   ]
  },
  {
   "cell_type": "markdown",
   "metadata": {},
   "source": [
    "# Run all samples"
   ]
  },
  {
   "cell_type": "code",
   "execution_count": 8,
   "metadata": {
    "scrolled": true
   },
   "outputs": [
    {
     "name": "stdout",
     "output_type": "stream",
     "text": [
      "Analyzing record 16265 ...\n",
      "Number of peaks detected >= 85% of number of reference peaks \\m/\n",
      "\n",
      "\n",
      "Analyzing record 16272 ...\n",
      "Insufficient number of peaks detected - less than 85% of reference peaks !\n",
      "\n",
      "\n",
      "Analyzing record 16273 ...\n",
      "Number of peaks detected >= 85% of number of reference peaks \\m/\n",
      "\n",
      "\n",
      "Analyzing record 16420 ...\n",
      "Number of peaks detected >= 85% of number of reference peaks \\m/\n",
      "\n",
      "\n",
      "Analyzing record 16483 ...\n",
      "Number of peaks detected >= 85% of number of reference peaks \\m/\n",
      "\n",
      "\n",
      "Analyzing record 16539 ...\n",
      "Number of peaks detected >= 85% of number of reference peaks \\m/\n",
      "\n",
      "\n",
      "Analyzing record 16773 ...\n",
      "Insufficient number of peaks detected - less than 85% of reference peaks !\n",
      "\n",
      "\n",
      "Analyzing record 16786 ...\n",
      "Number of peaks detected >= 85% of number of reference peaks \\m/\n",
      "\n",
      "\n",
      "Analyzing record 16795 ...\n",
      "Number of peaks detected >= 85% of number of reference peaks \\m/\n",
      "\n",
      "\n",
      "Analyzing record 17052 ...\n",
      "Number of peaks detected >= 85% of number of reference peaks \\m/\n",
      "\n",
      "\n",
      "Analyzing record 17453 ...\n",
      "Number of peaks detected >= 85% of number of reference peaks \\m/\n",
      "\n",
      "\n",
      "Analyzing record 18177 ...\n",
      "Number of peaks detected >= 85% of number of reference peaks \\m/\n",
      "\n",
      "\n",
      "Analyzing record 18184 ...\n",
      "Number of peaks detected >= 85% of number of reference peaks \\m/\n",
      "\n",
      "\n",
      "Analyzing record 19088 ...\n",
      "Insufficient number of peaks detected - less than 85% of reference peaks !\n",
      "\n",
      "\n",
      "Analyzing record 19090 ...\n",
      "Number of peaks detected >= 85% of number of reference peaks \\m/\n",
      "\n",
      "\n",
      "Analyzing record 19093 ...\n",
      "Number of peaks detected >= 85% of number of reference peaks \\m/\n",
      "\n",
      "\n",
      "Analyzing record 19140 ...\n",
      "Number of peaks detected >= 85% of number of reference peaks \\m/\n",
      "\n",
      "\n",
      "Analyzing record 19830 ...\n",
      "Number of peaks detected >= 85% of number of reference peaks \\m/\n",
      "\n",
      "\n"
     ]
    }
   ],
   "source": [
    "summary = pd.DataFrame()\n",
    "\n",
    "for record_id in record_ids:\n",
    "    record_path = database_dir + record_id\n",
    "    \n",
    "    print(\"Analyzing record {:s} ...\".format(record_id))\n",
    "    \n",
    "    # Run QRSeeker\n",
    "    qrs_seeker = QRSeeker(record_path, channels=[0],\n",
    "                          findpeaks_limit=0.01, findpeaks_spacing_factor=0.2, \n",
    "                          verbose=False) \n",
    "    \n",
    "    # Store the results\n",
    "    results = {\n",
    "        'record_id': record_id,\n",
    "        \n",
    "        'ref_annotation': qrs_seeker.ref_annotation,\n",
    "        'test_annotation': np.array(qrs_seeker.detected_inds),\n",
    "        \n",
    "        'matched_ref_inds': qrs_seeker.matched_ref_inds,\n",
    "        'matched_test_inds': qrs_seeker.matched_test_inds,\n",
    "        'unmatched_ref_inds': qrs_seeker.unmatched_ref_inds,\n",
    "        'unmatched_test_inds': qrs_seeker.unmatched_test_inds,\n",
    "\n",
    "        'true_positive': qrs_seeker.true_positive,\n",
    "        'false_positive': qrs_seeker.false_positive,\n",
    "        'false_negative': qrs_seeker.false_negative,\n",
    "\n",
    "        'specificity': qrs_seeker.specificity,\n",
    "        'positive_predictivity': qrs_seeker.positive_predictivity,\n",
    "        'FPR': qrs_seeker.fpr\n",
    "    }\n",
    "    \n",
    "    summary = pd.concat([summary, pd.DataFrame([results], columns = results.keys())])\n",
    "    print(\"\\n\")"
   ]
  },
  {
   "cell_type": "code",
   "execution_count": 10,
   "metadata": {},
   "outputs": [
    {
     "data": {
      "text/html": [
       "<div>\n",
       "<style scoped>\n",
       "    .dataframe tbody tr th:only-of-type {\n",
       "        vertical-align: middle;\n",
       "    }\n",
       "\n",
       "    .dataframe tbody tr th {\n",
       "        vertical-align: top;\n",
       "    }\n",
       "\n",
       "    .dataframe thead th {\n",
       "        text-align: right;\n",
       "    }\n",
       "</style>\n",
       "<table border=\"1\" class=\"dataframe\">\n",
       "  <thead>\n",
       "    <tr style=\"text-align: right;\">\n",
       "      <th></th>\n",
       "      <th>record_id</th>\n",
       "      <th>ref_annotation</th>\n",
       "      <th>test_annotation</th>\n",
       "      <th>matched_ref_inds</th>\n",
       "      <th>matched_test_inds</th>\n",
       "      <th>unmatched_ref_inds</th>\n",
       "      <th>unmatched_test_inds</th>\n",
       "      <th>true_positive</th>\n",
       "      <th>false_positive</th>\n",
       "      <th>false_negative</th>\n",
       "      <th>specificity</th>\n",
       "      <th>positive_predictivity</th>\n",
       "      <th>FPR</th>\n",
       "    </tr>\n",
       "  </thead>\n",
       "  <tbody>\n",
       "    <tr>\n",
       "      <th>0</th>\n",
       "      <td>16265</td>\n",
       "      <td>[1, 52, 129, 207, 284, 364, 442, 522, 598, 675...</td>\n",
       "      <td>[58, 135, 213, 291, 370, 448, 527, 604, 682, 7...</td>\n",
       "      <td>[1, 2, 3, 4, 5, 6, 7, 8, 9, 10, 11, 12, 13, 14...</td>\n",
       "      <td>[0, 1, 2, 3, 4, 5, 6, 7, 8, 9, 10, 11, 12, 13,...</td>\n",
       "      <td>[0, 479, 488, 509, 519, 840, 842, 844, 846, 84...</td>\n",
       "      <td>[3563, 4751, 9010, 17586, 20111, 20352, 23401,...</td>\n",
       "      <td>100231.0</td>\n",
       "      <td>15.0</td>\n",
       "      <td>724.0</td>\n",
       "      <td>0.992828</td>\n",
       "      <td>0.999850</td>\n",
       "      <td>0.000150</td>\n",
       "    </tr>\n",
       "    <tr>\n",
       "      <th>0</th>\n",
       "      <td>16272</td>\n",
       "      <td>[1, 73, 199, 321, 445, 567, 690, 815, 941, 106...</td>\n",
       "      <td>[79, 205, 328, 451, 573, 696, 821, 947, 1071, ...</td>\n",
       "      <td>NaN</td>\n",
       "      <td>NaN</td>\n",
       "      <td>NaN</td>\n",
       "      <td>NaN</td>\n",
       "      <td>NaN</td>\n",
       "      <td>NaN</td>\n",
       "      <td>NaN</td>\n",
       "      <td>NaN</td>\n",
       "      <td>NaN</td>\n",
       "      <td>NaN</td>\n",
       "    </tr>\n",
       "    <tr>\n",
       "      <th>0</th>\n",
       "      <td>16273</td>\n",
       "      <td>[9, 87, 164, 241, 319, 397, 476, 557, 641, 723...</td>\n",
       "      <td>[15, 93, 171, 248, 325, 403, 482, 564, 647, 73...</td>\n",
       "      <td>[0, 1, 2, 3, 4, 5, 6, 7, 8, 9, 10, 11, 12, 13,...</td>\n",
       "      <td>[0, 1, 2, 3, 4, 5, 6, 7, 8, 9, 10, 11, 12, 13,...</td>\n",
       "      <td>[54, 242, 247, 249, 252, 411, 416, 423, 508, 5...</td>\n",
       "      <td>[5239]</td>\n",
       "      <td>89784.0</td>\n",
       "      <td>1.0</td>\n",
       "      <td>313.0</td>\n",
       "      <td>0.996526</td>\n",
       "      <td>0.999989</td>\n",
       "      <td>0.000011</td>\n",
       "    </tr>\n",
       "    <tr>\n",
       "      <th>0</th>\n",
       "      <td>16420</td>\n",
       "      <td>[68, 148, 228, 309, 391, 474, 557, 643, 727, 8...</td>\n",
       "      <td>[75, 156, 235, 317, 399, 481, 565, 651, 735, 8...</td>\n",
       "      <td>[0, 1, 2, 3, 4, 5, 6, 7, 8, 9, 10, 11, 12, 13,...</td>\n",
       "      <td>[0, 1, 2, 3, 4, 5, 6, 7, 8, 9, 10, 11, 12, 13,...</td>\n",
       "      <td>[307, 308, 318, 320, 334, 387, 396, 2786, 2794...</td>\n",
       "      <td>[]</td>\n",
       "      <td>101846.0</td>\n",
       "      <td>0.0</td>\n",
       "      <td>590.0</td>\n",
       "      <td>0.994240</td>\n",
       "      <td>1.000000</td>\n",
       "      <td>0.000000</td>\n",
       "    </tr>\n",
       "    <tr>\n",
       "      <th>0</th>\n",
       "      <td>16483</td>\n",
       "      <td>[18, 99, 178, 257, 337, 417, 497, 577, 657, 73...</td>\n",
       "      <td>[19, 102, 182, 261, 340, 420, 500, 580, 660, 7...</td>\n",
       "      <td>[0, 1, 2, 3, 4, 5, 6, 7, 8, 9, 10, 11, 12, 13,...</td>\n",
       "      <td>[0, 1, 2, 3, 4, 5, 6, 7, 8, 9, 10, 11, 12, 13,...</td>\n",
       "      <td>[60, 91, 103, 154, 421, 429, 1276, 1433, 1440,...</td>\n",
       "      <td>[51446]</td>\n",
       "      <td>104322.0</td>\n",
       "      <td>1.0</td>\n",
       "      <td>239.0</td>\n",
       "      <td>0.997714</td>\n",
       "      <td>0.999990</td>\n",
       "      <td>0.000010</td>\n",
       "    </tr>\n",
       "  </tbody>\n",
       "</table>\n",
       "</div>"
      ],
      "text/plain": [
       "  record_id                                     ref_annotation  \\\n",
       "0     16265  [1, 52, 129, 207, 284, 364, 442, 522, 598, 675...   \n",
       "0     16272  [1, 73, 199, 321, 445, 567, 690, 815, 941, 106...   \n",
       "0     16273  [9, 87, 164, 241, 319, 397, 476, 557, 641, 723...   \n",
       "0     16420  [68, 148, 228, 309, 391, 474, 557, 643, 727, 8...   \n",
       "0     16483  [18, 99, 178, 257, 337, 417, 497, 577, 657, 73...   \n",
       "\n",
       "                                     test_annotation  \\\n",
       "0  [58, 135, 213, 291, 370, 448, 527, 604, 682, 7...   \n",
       "0  [79, 205, 328, 451, 573, 696, 821, 947, 1071, ...   \n",
       "0  [15, 93, 171, 248, 325, 403, 482, 564, 647, 73...   \n",
       "0  [75, 156, 235, 317, 399, 481, 565, 651, 735, 8...   \n",
       "0  [19, 102, 182, 261, 340, 420, 500, 580, 660, 7...   \n",
       "\n",
       "                                    matched_ref_inds  \\\n",
       "0  [1, 2, 3, 4, 5, 6, 7, 8, 9, 10, 11, 12, 13, 14...   \n",
       "0                                                NaN   \n",
       "0  [0, 1, 2, 3, 4, 5, 6, 7, 8, 9, 10, 11, 12, 13,...   \n",
       "0  [0, 1, 2, 3, 4, 5, 6, 7, 8, 9, 10, 11, 12, 13,...   \n",
       "0  [0, 1, 2, 3, 4, 5, 6, 7, 8, 9, 10, 11, 12, 13,...   \n",
       "\n",
       "                                   matched_test_inds  \\\n",
       "0  [0, 1, 2, 3, 4, 5, 6, 7, 8, 9, 10, 11, 12, 13,...   \n",
       "0                                                NaN   \n",
       "0  [0, 1, 2, 3, 4, 5, 6, 7, 8, 9, 10, 11, 12, 13,...   \n",
       "0  [0, 1, 2, 3, 4, 5, 6, 7, 8, 9, 10, 11, 12, 13,...   \n",
       "0  [0, 1, 2, 3, 4, 5, 6, 7, 8, 9, 10, 11, 12, 13,...   \n",
       "\n",
       "                                  unmatched_ref_inds  \\\n",
       "0  [0, 479, 488, 509, 519, 840, 842, 844, 846, 84...   \n",
       "0                                                NaN   \n",
       "0  [54, 242, 247, 249, 252, 411, 416, 423, 508, 5...   \n",
       "0  [307, 308, 318, 320, 334, 387, 396, 2786, 2794...   \n",
       "0  [60, 91, 103, 154, 421, 429, 1276, 1433, 1440,...   \n",
       "\n",
       "                                 unmatched_test_inds  true_positive  \\\n",
       "0  [3563, 4751, 9010, 17586, 20111, 20352, 23401,...       100231.0   \n",
       "0                                                NaN            NaN   \n",
       "0                                             [5239]        89784.0   \n",
       "0                                                 []       101846.0   \n",
       "0                                            [51446]       104322.0   \n",
       "\n",
       "   false_positive  false_negative  specificity  positive_predictivity  \\\n",
       "0            15.0           724.0     0.992828               0.999850   \n",
       "0             NaN             NaN          NaN                    NaN   \n",
       "0             1.0           313.0     0.996526               0.999989   \n",
       "0             0.0           590.0     0.994240               1.000000   \n",
       "0             1.0           239.0     0.997714               0.999990   \n",
       "\n",
       "        FPR  \n",
       "0  0.000150  \n",
       "0       NaN  \n",
       "0  0.000011  \n",
       "0  0.000000  \n",
       "0  0.000010  "
      ]
     },
     "execution_count": 10,
     "metadata": {},
     "output_type": "execute_result"
    }
   ],
   "source": [
    "summary.head()"
   ]
  },
  {
   "cell_type": "code",
   "execution_count": 11,
   "metadata": {},
   "outputs": [
    {
     "data": {
      "text/html": [
       "<div>\n",
       "<style scoped>\n",
       "    .dataframe tbody tr th:only-of-type {\n",
       "        vertical-align: middle;\n",
       "    }\n",
       "\n",
       "    .dataframe tbody tr th {\n",
       "        vertical-align: top;\n",
       "    }\n",
       "\n",
       "    .dataframe thead th {\n",
       "        text-align: right;\n",
       "    }\n",
       "</style>\n",
       "<table border=\"1\" class=\"dataframe\">\n",
       "  <thead>\n",
       "    <tr style=\"text-align: right;\">\n",
       "      <th></th>\n",
       "      <th>specificity</th>\n",
       "      <th>positive_predictivity</th>\n",
       "      <th>FPR</th>\n",
       "    </tr>\n",
       "  </thead>\n",
       "  <tbody>\n",
       "    <tr>\n",
       "      <th>count</th>\n",
       "      <td>15.000000</td>\n",
       "      <td>15.000000</td>\n",
       "      <td>15.000000</td>\n",
       "    </tr>\n",
       "    <tr>\n",
       "      <th>mean</th>\n",
       "      <td>0.987375</td>\n",
       "      <td>0.999913</td>\n",
       "      <td>0.000087</td>\n",
       "    </tr>\n",
       "    <tr>\n",
       "      <th>std</th>\n",
       "      <td>0.024850</td>\n",
       "      <td>0.000239</td>\n",
       "      <td>0.000239</td>\n",
       "    </tr>\n",
       "    <tr>\n",
       "      <th>min</th>\n",
       "      <td>0.899223</td>\n",
       "      <td>0.999062</td>\n",
       "      <td>0.000000</td>\n",
       "    </tr>\n",
       "    <tr>\n",
       "      <th>25%</th>\n",
       "      <td>0.992004</td>\n",
       "      <td>0.999957</td>\n",
       "      <td>0.000000</td>\n",
       "    </tr>\n",
       "    <tr>\n",
       "      <th>50%</th>\n",
       "      <td>0.994909</td>\n",
       "      <td>0.999991</td>\n",
       "      <td>0.000009</td>\n",
       "    </tr>\n",
       "    <tr>\n",
       "      <th>75%</th>\n",
       "      <td>0.996227</td>\n",
       "      <td>1.000000</td>\n",
       "      <td>0.000043</td>\n",
       "    </tr>\n",
       "    <tr>\n",
       "      <th>max</th>\n",
       "      <td>0.998948</td>\n",
       "      <td>1.000000</td>\n",
       "      <td>0.000938</td>\n",
       "    </tr>\n",
       "  </tbody>\n",
       "</table>\n",
       "</div>"
      ],
      "text/plain": [
       "       specificity  positive_predictivity        FPR\n",
       "count    15.000000              15.000000  15.000000\n",
       "mean      0.987375               0.999913   0.000087\n",
       "std       0.024850               0.000239   0.000239\n",
       "min       0.899223               0.999062   0.000000\n",
       "25%       0.992004               0.999957   0.000000\n",
       "50%       0.994909               0.999991   0.000009\n",
       "75%       0.996227               1.000000   0.000043\n",
       "max       0.998948               1.000000   0.000938"
      ]
     },
     "execution_count": 11,
     "metadata": {},
     "output_type": "execute_result"
    }
   ],
   "source": [
    "summary[['specificity', 'positive_predictivity', 'FPR']].describe()"
   ]
  },
  {
   "cell_type": "code",
   "execution_count": 14,
   "metadata": {},
   "outputs": [
    {
     "name": "stdout",
     "output_type": "stream",
     "text": [
      "['16272', '16773', '19088']\n",
      "[21.99575896 72.62017591 84.20342721]\n"
     ]
    }
   ],
   "source": [
    "sobad_record_ids = summary.loc[summary['specificity'].isna() == True, 'record_id']\n",
    "\n",
    "detected_lengths = [len(x) for x in list(summary.loc[summary['specificity'].isna() == True, 'test_annotation'])]\n",
    "ref_lengths = [len(x) for x in list(summary.loc[summary['specificity'].isna() == True, 'ref_annotation'])]\n",
    "\n",
    "print(list(sobad_record_ids))\n",
    "print(np.array(detected_lengths)*100 / np.array(ref_lengths))"
   ]
  },
  {
   "cell_type": "markdown",
   "metadata": {},
   "source": [
    "# Re-analyse 3 records "
   ]
  },
  {
   "cell_type": "code",
   "execution_count": 15,
   "metadata": {},
   "outputs": [
    {
     "name": "stdout",
     "output_type": "stream",
     "text": [
      "Analyzing record 16272 ...\n",
      "Insufficient number of peaks detected - less than 85% of reference peaks !\n",
      "\n",
      "\n",
      "Analyzing record 16773 ...\n",
      "Insufficient number of peaks detected - less than 85% of reference peaks !\n",
      "\n",
      "\n",
      "Analyzing record 19088 ...\n",
      "Insufficient number of peaks detected - less than 85% of reference peaks !\n",
      "\n",
      "\n"
     ]
    }
   ],
   "source": [
    "summary_newrun = pd.DataFrame()\n",
    "\n",
    "for record_id in sobad_record_ids:\n",
    "    record_path = database_dir + record_id\n",
    "    \n",
    "    print(\"Analyzing record {:s} ...\".format(record_id))\n",
    "    \n",
    "    # Run QRSeeker\n",
    "    qrs_seeker = QRSeeker(record_path, channels=[0],\n",
    "                          findpeaks_limit=None, findpeaks_spacing_factor=0.2, \n",
    "                          verbose=False) \n",
    "    \n",
    "    # Store the results\n",
    "    results = {\n",
    "        'record_id': record_id,\n",
    "        \n",
    "        'ref_annotation': qrs_seeker.ref_annotation,\n",
    "        'test_annotation': np.array(qrs_seeker.detected_inds),\n",
    "        \n",
    "        'matched_ref_inds': qrs_seeker.matched_ref_inds,\n",
    "        'matched_test_inds': qrs_seeker.matched_test_inds,\n",
    "        'unmatched_ref_inds': qrs_seeker.unmatched_ref_inds,\n",
    "        'unmatched_test_inds': qrs_seeker.unmatched_test_inds,\n",
    "\n",
    "        'true_positive': qrs_seeker.true_positive,\n",
    "        'false_positive': qrs_seeker.false_positive,\n",
    "        'false_negative': qrs_seeker.false_negative,\n",
    "\n",
    "        'specificity': qrs_seeker.specificity,\n",
    "        'positive_predictivity': qrs_seeker.positive_predictivity,\n",
    "        'FPR': qrs_seeker.fpr\n",
    "    }\n",
    "    \n",
    "    summary_newrun = pd.concat([summary_newrun, pd.DataFrame([results], columns = results.keys())])\n",
    "    print(\"\\n\")"
   ]
  },
  {
   "cell_type": "code",
   "execution_count": 16,
   "metadata": {},
   "outputs": [
    {
     "name": "stdout",
     "output_type": "stream",
     "text": [
      "[22.02355218 72.62017591 84.20342721]\n"
     ]
    }
   ],
   "source": [
    "detected_lengths = [len(x) for x in list(summary_newrun.loc[summary_newrun['specificity'].isna() == True, 'test_annotation'])]\n",
    "ref_lengths = [len(x) for x in list(summary_newrun.loc[summary_newrun['specificity'].isna() == True, 'ref_annotation'])]\n",
    "\n",
    "print(np.array(detected_lengths)*100 / np.array(ref_lengths))"
   ]
  },
  {
   "cell_type": "markdown",
   "metadata": {},
   "source": [
    "# Save final summary table, 15 good records"
   ]
  },
  {
   "cell_type": "code",
   "execution_count": 17,
   "metadata": {},
   "outputs": [],
   "source": [
    "summary_final = summary[summary['specificity'].isna() == False].copy()\n",
    "summary_final.reset_index(drop=True, inplace=True)"
   ]
  },
  {
   "cell_type": "code",
   "execution_count": 19,
   "metadata": {},
   "outputs": [],
   "source": [
    "import pickle\n",
    "pickle.dump(summary_final, open(\"nsrDb_summary.pickle\", \"wb\"))"
   ]
  },
  {
   "cell_type": "code",
   "execution_count": null,
   "metadata": {},
   "outputs": [],
   "source": []
  }
 ],
 "metadata": {
  "anaconda-cloud": {},
  "kernelspec": {
   "display_name": "Python [conda env:biosignal]",
   "language": "python",
   "name": "conda-env-biosignal-py"
  },
  "language_info": {
   "codemirror_mode": {
    "name": "ipython",
    "version": 3
   },
   "file_extension": ".py",
   "mimetype": "text/x-python",
   "name": "python",
   "nbconvert_exporter": "python",
   "pygments_lexer": "ipython3",
   "version": "3.6.7"
  }
 },
 "nbformat": 4,
 "nbformat_minor": 2
}
